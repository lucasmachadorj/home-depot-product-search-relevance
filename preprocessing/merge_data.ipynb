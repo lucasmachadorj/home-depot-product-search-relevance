{
 "cells": [
  {
   "cell_type": "code",
   "execution_count": 1,
   "metadata": {
    "collapsed": false
   },
   "outputs": [
    {
     "name": "stdout",
     "output_type": "stream",
     "text": [
      "<class 'pandas.core.frame.DataFrame'>\n",
      "Int64Index: 74067 entries, 0 to 74066\n",
      "Data columns (total 8 columns):\n",
      "id                     74067 non-null int64\n",
      "product_uid            74067 non-null int64\n",
      "product_title          74067 non-null object\n",
      "search_term            74067 non-null object\n",
      "relevance              74067 non-null float64\n",
      "product_description    74067 non-null object\n",
      "product_count          74067 non-null int64\n",
      "brand_name             74067 non-null object\n",
      "dtypes: float64(1), int64(3), object(4)\n",
      "memory usage: 5.1+ MB\n",
      "None\n",
      "                  id    product_uid     relevance  product_count\n",
      "count   74067.000000   74067.000000  74067.000000   74067.000000\n",
      "mean   112385.709223  142331.911553      2.381634       1.935450\n",
      "std     64016.573650   30770.774864      0.533984       1.706594\n",
      "min         2.000000  100001.000000      1.000000       1.000000\n",
      "25%     57163.500000  115128.500000      2.000000       1.000000\n",
      "50%    113228.000000  137334.000000      2.330000       1.000000\n",
      "75%    168275.500000  166883.500000      3.000000       2.000000\n",
      "max    221473.000000  206650.000000      3.000000      21.000000\n"
     ]
    }
   ],
   "source": [
    "import numpy as np\n",
    "import pandas as pd\n",
    "\n",
    "train_data = pd.read_csv('../data/train.csv', encoding=\"ISO-8859-1\")\n",
    "test_data = pd.read_csv('../data/test.csv', encoding=\"ISO-8859-1\")\n",
    "attribute_data = pd.read_csv('../data/attributes.csv')\n",
    "descriptions = pd.read_csv('../data/product_descriptions.csv')\n",
    "\n",
    "train_data = pd.merge(train_data, descriptions, on=\"product_uid\", how=\"left\")\n",
    "test_data = pd.merge(test_data, descriptions, on=\"product_uid\", how=\"left\")\n",
    "\n",
    "product_count = pd.DataFrame(pd.Series(train_data.groupby([\"product_uid\"]).size(), name=\"product_count\"))\n",
    "train_data = pd.merge(train_data, product_count, left_on=\"product_uid\", right_index=True, how=\"left\")\n",
    "product_count = pd.DataFrame(pd.Series(test_data.groupby([\"product_uid\"]).size(), name=\"product_count\"))\n",
    "test_data = pd.merge(test_data, product_count, left_on=\"product_uid\", right_index=True, how=\"left\")\n",
    "\n",
    "brand_names = attribute_data[attribute_data.name == \"MFG Brand Name\"][[\"product_uid\", \"value\"]].rename(columns={\"value\": \"brand_name\"})\n",
    "train_data = pd.merge(train_data, brand_names, on=\"product_uid\", how=\"left\")\n",
    "train_data.brand_name.fillna(\"Unknown\", inplace=True)\n",
    "test_data = pd.merge(test_data, brand_names, on=\"product_uid\", how=\"left\")\n",
    "test_data.brand_name.fillna(\"Unknown\", inplace=True)\n",
    "\n",
    "print(str(train_data.info()))\n",
    "print(str(train_data.describe()))"
   ]
  },
  {
   "cell_type": "code",
   "execution_count": null,
   "metadata": {
    "collapsed": true
   },
   "outputs": [],
   "source": []
  }
 ],
 "metadata": {
  "kernelspec": {
   "display_name": "Python 2",
   "language": "python",
   "name": "python2"
  },
  "language_info": {
   "codemirror_mode": {
    "name": "ipython",
    "version": 2
   },
   "file_extension": ".py",
   "mimetype": "text/x-python",
   "name": "python",
   "nbconvert_exporter": "python",
   "pygments_lexer": "ipython2",
   "version": "2.7.6"
  }
 },
 "nbformat": 4,
 "nbformat_minor": 0
}
