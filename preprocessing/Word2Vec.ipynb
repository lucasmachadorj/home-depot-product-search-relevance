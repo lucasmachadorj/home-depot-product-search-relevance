{
 "cells": [
  {
   "cell_type": "code",
   "execution_count": 1,
   "metadata": {
    "collapsed": true
   },
   "outputs": [],
   "source": [
    "import os\n",
    "import pandas as pd\n",
    "from gensim.models import word2vec"
   ]
  },
  {
   "cell_type": "code",
   "execution_count": null,
   "metadata": {
    "collapsed": true
   },
   "outputs": [],
   "source": [
    "train_data = pd.read_csv('../data/train.csv', encoding=\"ISO-8859-1\")\n",
    "test_data = pd.read_csv('../data/test.csv', encoding=\"ISO-8859-1\")\n",
    "attribute_data = pd.read_csv('../data/attributes.csv')\n",
    "descriptions = pd.read_csv('../data/product_descriptions.csv')\n",
    "\n",
    "train_data = pd.merge(train_data, descriptions, on=\"product_uid\", how=\"left\")\n",
    "test_data = pd.merge(test_data, descriptions, on=\"product_uid\", how=\"left\")\n",
    "\n",
    "product_count = pd.DataFrame(pd.Series(train_data.groupby([\"product_uid\"]).size(), name=\"product_count\"))\n",
    "product_count = pd.DataFrame(pd.Series(test_data.groupby([\"product_uid\"]).size(), name=\"product_count\"))"
   ]
  }
 ],
 "metadata": {
  "kernelspec": {
   "display_name": "Python 2",
   "language": "python",
   "name": "python2"
  },
  "language_info": {
   "codemirror_mode": {
    "name": "ipython",
    "version": 2
   },
   "file_extension": ".py",
   "mimetype": "text/x-python",
   "name": "python",
   "nbconvert_exporter": "python",
   "pygments_lexer": "ipython2",
   "version": "2.7.6"
  }
 },
 "nbformat": 4,
 "nbformat_minor": 0
}
