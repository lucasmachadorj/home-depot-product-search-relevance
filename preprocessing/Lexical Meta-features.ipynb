{
 "cells": [
  {
   "cell_type": "code",
   "execution_count": 19,
   "metadata": {
    "collapsed": false
   },
   "outputs": [],
   "source": [
    "import nltk\n",
    "import os\n",
    "import pandas as pd\n",
    "from nltk.corpus import stopwords\n",
    "from nltk.tokenize import word_tokenize\n",
    "from nltk.stem import PorterStemmer\n",
    "from sklearn.feature_extraction.text import CountVectorizer"
   ]
  },
  {
   "cell_type": "markdown",
   "metadata": {},
   "source": [
    "1. Modelos bag of words\n",
    "2. Pre-processamento com lowercasing, stemming e remoção de caracteres não alfa-numericos"
   ]
  },
  {
   "cell_type": "code",
   "execution_count": 10,
   "metadata": {
    "collapsed": true
   },
   "outputs": [],
   "source": [
    "train_data = pd.read_csv('../data/train.csv', encoding=\"ISO-8859-1\")\n",
    "test_data = pd.read_csv('../data/test.csv', encoding=\"ISO-8859-1\")\n",
    "attribute_data = pd.read_csv('../data/attributes.csv')\n",
    "descriptions = pd.read_csv('../data/product_descriptions.csv')\n",
    "\n",
    "train_data = pd.merge(train_data, descriptions, on=\"product_uid\", how=\"left\")\n",
    "test_data = pd.merge(test_data, descriptions, on=\"product_uid\", how=\"left\")\n",
    "\n",
    "product_count = pd.DataFrame(pd.Series(train_data.groupby([\"product_uid\"]).size(), name=\"product_count\"))\n",
    "product_count = pd.DataFrame(pd.Series(test_data.groupby([\"product_uid\"]).size(), name=\"product_count\"))"
   ]
  },
  {
   "cell_type": "code",
   "execution_count": 11,
   "metadata": {
    "collapsed": false
   },
   "outputs": [
    {
     "data": {
      "text/html": [
       "<div>\n",
       "<table border=\"1\" class=\"dataframe\">\n",
       "  <thead>\n",
       "    <tr style=\"text-align: right;\">\n",
       "      <th></th>\n",
       "      <th>id</th>\n",
       "      <th>product_uid</th>\n",
       "      <th>product_title</th>\n",
       "      <th>search_term</th>\n",
       "      <th>relevance</th>\n",
       "      <th>product_description</th>\n",
       "    </tr>\n",
       "  </thead>\n",
       "  <tbody>\n",
       "    <tr>\n",
       "      <th>0</th>\n",
       "      <td>2</td>\n",
       "      <td>100001</td>\n",
       "      <td>Simpson Strong-Tie 12-Gauge Angle</td>\n",
       "      <td>angle bracket</td>\n",
       "      <td>3.00</td>\n",
       "      <td>Not only do angles make joints stronger, they ...</td>\n",
       "    </tr>\n",
       "    <tr>\n",
       "      <th>1</th>\n",
       "      <td>3</td>\n",
       "      <td>100001</td>\n",
       "      <td>Simpson Strong-Tie 12-Gauge Angle</td>\n",
       "      <td>l bracket</td>\n",
       "      <td>2.50</td>\n",
       "      <td>Not only do angles make joints stronger, they ...</td>\n",
       "    </tr>\n",
       "    <tr>\n",
       "      <th>2</th>\n",
       "      <td>9</td>\n",
       "      <td>100002</td>\n",
       "      <td>BEHR Premium Textured DeckOver 1-gal. #SC-141 ...</td>\n",
       "      <td>deck over</td>\n",
       "      <td>3.00</td>\n",
       "      <td>BEHR Premium Textured DECKOVER is an innovativ...</td>\n",
       "    </tr>\n",
       "    <tr>\n",
       "      <th>3</th>\n",
       "      <td>16</td>\n",
       "      <td>100005</td>\n",
       "      <td>Delta Vero 1-Handle Shower Only Faucet Trim Ki...</td>\n",
       "      <td>rain shower head</td>\n",
       "      <td>2.33</td>\n",
       "      <td>Update your bathroom with the Delta Vero Singl...</td>\n",
       "    </tr>\n",
       "    <tr>\n",
       "      <th>4</th>\n",
       "      <td>17</td>\n",
       "      <td>100005</td>\n",
       "      <td>Delta Vero 1-Handle Shower Only Faucet Trim Ki...</td>\n",
       "      <td>shower only faucet</td>\n",
       "      <td>2.67</td>\n",
       "      <td>Update your bathroom with the Delta Vero Singl...</td>\n",
       "    </tr>\n",
       "  </tbody>\n",
       "</table>\n",
       "</div>"
      ],
      "text/plain": [
       "   id  product_uid                                      product_title  \\\n",
       "0   2       100001                  Simpson Strong-Tie 12-Gauge Angle   \n",
       "1   3       100001                  Simpson Strong-Tie 12-Gauge Angle   \n",
       "2   9       100002  BEHR Premium Textured DeckOver 1-gal. #SC-141 ...   \n",
       "3  16       100005  Delta Vero 1-Handle Shower Only Faucet Trim Ki...   \n",
       "4  17       100005  Delta Vero 1-Handle Shower Only Faucet Trim Ki...   \n",
       "\n",
       "          search_term  relevance  \\\n",
       "0       angle bracket       3.00   \n",
       "1           l bracket       2.50   \n",
       "2           deck over       3.00   \n",
       "3    rain shower head       2.33   \n",
       "4  shower only faucet       2.67   \n",
       "\n",
       "                                 product_description  \n",
       "0  Not only do angles make joints stronger, they ...  \n",
       "1  Not only do angles make joints stronger, they ...  \n",
       "2  BEHR Premium Textured DECKOVER is an innovativ...  \n",
       "3  Update your bathroom with the Delta Vero Singl...  \n",
       "4  Update your bathroom with the Delta Vero Singl...  "
      ]
     },
     "execution_count": 11,
     "metadata": {},
     "output_type": "execute_result"
    }
   ],
   "source": [
    "train_data.head()"
   ]
  },
  {
   "cell_type": "code",
   "execution_count": 17,
   "metadata": {
    "collapsed": false
   },
   "outputs": [],
   "source": [
    "english_sw = stopwords.words('english')"
   ]
  },
  {
   "cell_type": "code",
   "execution_count": null,
   "metadata": {
    "collapsed": true
   },
   "outputs": [],
   "source": [
    "train_data.product_description.apply()"
   ]
  },
  {
   "cell_type": "code",
   "execution_count": 13,
   "metadata": {
    "collapsed": false
   },
   "outputs": [],
   "source": [
    "vectorizer = CountVectorizer(analyzer='word', stop_words = english_sw)"
   ]
  },
  {
   "cell_type": "code",
   "execution_count": 21,
   "metadata": {
    "collapsed": false
   },
   "outputs": [
    {
     "data": {
      "text/plain": [
       "('Not',\n",
       " 'only',\n",
       " 'do',\n",
       " 'angles',\n",
       " 'make',\n",
       " 'joints',\n",
       " 'stronger',\n",
       " ',',\n",
       " 'they',\n",
       " 'also',\n",
       " 'provide',\n",
       " 'more',\n",
       " 'consistent',\n",
       " ',',\n",
       " 'straight',\n",
       " 'corners',\n",
       " '.',\n",
       " 'Simpson',\n",
       " 'Strong-Tie',\n",
       " 'offers',\n",
       " 'a',\n",
       " 'wide',\n",
       " 'variety',\n",
       " 'of',\n",
       " 'angles',\n",
       " 'in',\n",
       " 'various',\n",
       " 'sizes',\n",
       " 'and',\n",
       " 'thicknesses',\n",
       " 'to',\n",
       " 'handle',\n",
       " 'light-duty',\n",
       " 'jobs',\n",
       " 'or',\n",
       " 'projects',\n",
       " 'where',\n",
       " 'a',\n",
       " 'structural',\n",
       " 'connection',\n",
       " 'is',\n",
       " 'needed',\n",
       " '.',\n",
       " 'Some',\n",
       " 'can',\n",
       " 'be',\n",
       " 'bent',\n",
       " '(',\n",
       " 'skewed',\n",
       " ')',\n",
       " 'to',\n",
       " 'match',\n",
       " 'the',\n",
       " 'project',\n",
       " '.',\n",
       " 'For',\n",
       " 'outdoor',\n",
       " 'projects',\n",
       " 'or',\n",
       " 'those',\n",
       " 'where',\n",
       " 'moisture',\n",
       " 'is',\n",
       " 'present',\n",
       " ',',\n",
       " 'use',\n",
       " 'our',\n",
       " 'ZMAX',\n",
       " 'zinc-coated',\n",
       " 'connectors',\n",
       " ',',\n",
       " 'which',\n",
       " 'provide',\n",
       " 'extra',\n",
       " 'resistance',\n",
       " 'against',\n",
       " 'corrosion',\n",
       " '(',\n",
       " 'look',\n",
       " 'for',\n",
       " 'a',\n",
       " '``',\n",
       " 'Z',\n",
       " \"''\",\n",
       " 'at',\n",
       " 'the',\n",
       " 'end',\n",
       " 'of',\n",
       " 'the',\n",
       " 'model',\n",
       " 'number',\n",
       " ')',\n",
       " '.Versatile',\n",
       " 'connector',\n",
       " 'for',\n",
       " 'various',\n",
       " '90',\n",
       " 'connections',\n",
       " 'and',\n",
       " 'home',\n",
       " 'repair',\n",
       " 'projectsStronger',\n",
       " 'than',\n",
       " 'angled',\n",
       " 'nailing',\n",
       " 'or',\n",
       " 'screw',\n",
       " 'fastening',\n",
       " 'aloneHelp',\n",
       " 'ensure',\n",
       " 'joints',\n",
       " 'are',\n",
       " 'consistently',\n",
       " 'straight',\n",
       " 'and',\n",
       " 'strongDimensions',\n",
       " ':',\n",
       " '3',\n",
       " 'in',\n",
       " '.',\n",
       " 'x',\n",
       " '3',\n",
       " 'in',\n",
       " '.',\n",
       " 'x',\n",
       " '1-1/2',\n",
       " 'in.Made',\n",
       " 'from',\n",
       " '12-Gauge',\n",
       " 'steelGalvanized',\n",
       " 'for',\n",
       " 'extra',\n",
       " 'corrosion',\n",
       " 'resistanceInstall',\n",
       " 'with',\n",
       " '10d',\n",
       " 'common',\n",
       " 'nails',\n",
       " 'or',\n",
       " '#',\n",
       " '9',\n",
       " 'x',\n",
       " '1-1/2',\n",
       " 'in',\n",
       " '.',\n",
       " 'Strong-Drive',\n",
       " 'SD',\n",
       " 'screws')"
      ]
     },
     "execution_count": 21,
     "metadata": {},
     "output_type": "execute_result"
    }
   ],
   "source": [
    "train_data[]tuple(word_tokenize(train_data.product_description[0]))"
   ]
  },
  {
   "cell_type": "code",
   "execution_count": null,
   "metadata": {
    "collapsed": true
   },
   "outputs": [],
   "source": []
  }
 ],
 "metadata": {
  "kernelspec": {
   "display_name": "Python 2",
   "language": "python",
   "name": "python2"
  },
  "language_info": {
   "codemirror_mode": {
    "name": "ipython",
    "version": 2
   },
   "file_extension": ".py",
   "mimetype": "text/x-python",
   "name": "python",
   "nbconvert_exporter": "python",
   "pygments_lexer": "ipython2",
   "version": "2.7.6"
  }
 },
 "nbformat": 4,
 "nbformat_minor": 0
}
