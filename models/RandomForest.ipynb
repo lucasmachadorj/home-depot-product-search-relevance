{
 "cells": [
  {
   "cell_type": "code",
   "execution_count": 6,
   "metadata": {
    "collapsed": false
   },
   "outputs": [],
   "source": [
    "import numpy as np\n",
    "import os\n",
    "from sklearn.ensemble import RandomForestRegressor\n",
    "from sklearn.grid_search import RandomizedSearchCV\n",
    "from sklearn.metrics import classification_report\n",
    "from sklearn import cross_validation\n",
    "from sklearn import preprocessing\n",
    "\n",
    "import pandas as pd\n"
   ]
  },
  {
   "cell_type": "code",
   "execution_count": 5,
   "metadata": {
    "collapsed": true
   },
   "outputs": [],
   "source": [
    "class Trainer:\n",
    "\n",
    "    def __init__(self, features, pred):\n",
    "        self.features = features\n",
    "        self.pred = pred\n",
    "\n",
    "    def train_rf(self, n_estimators = 200, param_grid = None, folders = 5,score = 'mean_absolute_error'):\n",
    "        # If customized parameters are not passsed, create standard ones\n",
    "        if not param_grid:\n",
    "            param_grid = {\n",
    "            'max_features': ['auto', 'sqrt', 'log2'],\n",
    "            'min_samples_split':[2, 4, 6, 8],\n",
    "            'min_samples_leaf' : [1, 2, 4]\n",
    "            }\n",
    "        # Create estimator object for the grid search\n",
    "        clf = RandomForestRegressor(n_estimators=n_estimators,\n",
    "                                    max_depth=None,\n",
    "                                    min_samples_split=4,\n",
    "                                    min_samples_leaf=1,\n",
    "                                    min_weight_fraction_leaf=0.0,\n",
    "                                    max_features='log2',\n",
    "                                    max_leaf_nodes=None,\n",
    "                                    n_jobs=-1)\n",
    "\n",
    "        # Create Grid Search Instance. It creates 10 models with randomly choosen parameters\n",
    "        CV_clf = RandomizedSearchCV(estimator=clf,\n",
    "                                    param_distributions = param_grid,\n",
    "                                    n_iter = 10,\n",
    "                                    cv= folders,\n",
    "                                    scoring= score)\n",
    "\n",
    "        # Fit the models\n",
    "        CV_clf.fit(self.features, self.pred)\n",
    "\n",
    "        # Print results\n",
    "        print(\"Grid scores on development set:\")\n",
    "        print()\n",
    "        for params, mean_score, scores in clf.grid_scores_:\n",
    "            print(\"%0.3f (+/-%0.03f) for %r\" % (mean_score, scores.std() * 2, params))\n",
    "            print('Best score found on development set: {0} \\n'.format(CV_clf.best_score_))\n",
    "            print('Best parameters set found on development set:{0} \\n'.format(CV_clf.best_params_))\n",
    "        return CV_clf.best_estimator_"
   ]
  },
  {
   "cell_type": "code",
   "execution_count": 8,
   "metadata": {
    "collapsed": false
   },
   "outputs": [],
   "source": [
    "features = pd.read_csv('../data/w2v_features.csv')\n",
    "test_features = pd.read_csv('../data/w2v_features_test.csv')\n",
    "\n",
    "X = features[['feature_{0}'.format(index) for index in xrange(1,38)]].as_matrix()\n",
    "y = features['relevance'].as_matrix()"
   ]
  },
  {
   "cell_type": "code",
   "execution_count": null,
   "metadata": {
    "collapsed": false
   },
   "outputs": [],
   "source": [
    "rf_trainer = Trainer(features = X,pred = y,)\n",
    "clf = rf_trainer.train_rf(n_estimators = 200, param_grid = None, folders = 5, score = 'mean_absolute_error')\n"
   ]
  },
  {
   "cell_type": "code",
   "execution_count": null,
   "metadata": {
    "collapsed": true
   },
   "outputs": [],
   "source": [
    "print(\"Detailed classification report:\")\n",
    "print()\n",
    "print(\"The model is trained on the full training set.\")\n",
    "print(\"The scores are computed on the full training set.\")\n",
    "print()\n",
    "y_pred = clf.predict(X)\n",
    "print(classification_report(y, y_pred))\n",
    "print()\n",
    "print('Saving predictions for test set...')\n",
    "rf_df = test_features[['id']]\n",
    "rf_df['relevance'] = y_pred\n",
    "rf_df.to_csv('../submissions/w2v_rf_submission', index=False)"
   ]
  }
 ],
 "metadata": {
  "kernelspec": {
   "display_name": "Python 2",
   "language": "python",
   "name": "python2"
  },
  "language_info": {
   "codemirror_mode": {
    "name": "ipython",
    "version": 2
   },
   "file_extension": ".py",
   "mimetype": "text/x-python",
   "name": "python",
   "nbconvert_exporter": "python",
   "pygments_lexer": "ipython2",
   "version": "2.7.6"
  }
 },
 "nbformat": 4,
 "nbformat_minor": 0
}
